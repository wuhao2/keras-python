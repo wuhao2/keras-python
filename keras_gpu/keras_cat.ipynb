{
 "cells": [
  {
   "cell_type": "code",
   "execution_count": 11,
   "metadata": {
    "collapsed": true
   },
   "outputs": [],
   "source": [
    "from skimage import data, io, filters\n",
    "\n",
    "image = data.coins()\n",
    "\n",
    "# ... or any other NumPy array!\n",
    "edges = filters.sobel(image)\n",
    "io.imshow(edges)\n",
    "io.show()"
   ]
  },
  {
   "cell_type": "code",
   "execution_count": 12,
   "metadata": {},
   "outputs": [],
   "source": [
    "import matplotlib.pyplot as plt\n",
    "from skimage import data\n",
    "from skimage import color\n",
    "from skimage import img_as_float\n",
    "\n",
    "grayscale_image = img_as_float(data.camera()[::2, ::2])\n",
    "image = color.gray2rgb(grayscale_image)\n",
    "\n",
    "red_multiplier = [1, 0, 0]\n",
    "yellow_multiplier = [1, 1, 0]\n",
    "\n",
    "fig, (ax1, ax2) = plt.subplots(ncols=2, figsize=(8, 4), sharex=True, sharey=True)\n",
    "ax1.imshow(red_multiplier * image)\n",
    "ax2.imshow(yellow_multiplier * image)\n",
    "ax1.set_adjustable('box-forced')\n",
    "ax2.set_adjustable('box-forced')"
   ]
  },
  {
   "cell_type": "code",
   "execution_count": null,
   "metadata": {},
   "outputs": [],
   "source": [
    ""
   ]
  }
 ],
 "metadata": {
  "kernelspec": {
   "display_name": "Python 2",
   "language": "python",
   "name": "python2"
  },
  "language_info": {
   "codemirror_mode": {
    "name": "ipython",
    "version": 2.0
   },
   "file_extension": ".py",
   "mimetype": "text/x-python",
   "name": "python",
   "nbconvert_exporter": "python",
   "pygments_lexer": "ipython2",
   "version": "2.7.6"
  }
 },
 "nbformat": 4,
 "nbformat_minor": 0
}